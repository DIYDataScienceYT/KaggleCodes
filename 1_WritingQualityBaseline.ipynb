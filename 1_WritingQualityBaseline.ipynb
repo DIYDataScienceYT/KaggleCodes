{
  "nbformat": 4,
  "nbformat_minor": 0,
  "metadata": {
    "colab": {
      "provenance": [],
      "authorship_tag": "ABX9TyOg68DFu/Rr2gwNI0BQxGcz",
      "include_colab_link": true
    },
    "kernelspec": {
      "name": "python3",
      "display_name": "Python 3"
    },
    "language_info": {
      "name": "python"
    }
  },
  "cells": [
    {
      "cell_type": "markdown",
      "metadata": {
        "id": "view-in-github",
        "colab_type": "text"
      },
      "source": [
        "<a href=\"https://colab.research.google.com/github/DIYDataScienceYT/KaggleCodes/blob/main/1_WritingQualityBaseline.ipynb\" target=\"_parent\"><img src=\"https://colab.research.google.com/assets/colab-badge.svg\" alt=\"Open In Colab\"/></a>"
      ]
    },
    {
      "cell_type": "markdown",
      "source": [
        "## Libraries"
      ],
      "metadata": {
        "id": "8HJCgd6YC0Zb"
      }
    },
    {
      "cell_type": "code",
      "execution_count": null,
      "metadata": {
        "id": "p6D7Y9BzCvf8"
      },
      "outputs": [],
      "source": [
        "# General library imports:-\n",
        "# displaying styling elements (HTML, Markdown..)\n",
        "from IPython.display import display_html, clear_output, Markdown;\n",
        "# trigger manual garbage collection cycle\n",
        "from gc import collect;\n",
        "# working with dataframes\n",
        "import pandas as pd;\n",
        "# numerical and mathematical operations\n",
        "import numpy as np;\n",
        "# makes copy\n",
        "from copy import deepcopy;\n",
        "# frequence counter\n",
        "from collections import Counter\n"
      ]
    },
    {
      "cell_type": "code",
      "source": [],
      "metadata": {
        "id": "_VQy-Ypc4Pjc"
      },
      "execution_count": null,
      "outputs": []
    }
  ]
}